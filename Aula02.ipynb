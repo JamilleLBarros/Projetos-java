{
  "nbformat": 4,
  "nbformat_minor": 0,
  "metadata": {
    "colab": {
      "provenance": [],
      "authorship_tag": "ABX9TyNqUbSTUXSOrLZaa7V3fBtq",
      "include_colab_link": true
    },
    "kernelspec": {
      "name": "python3",
      "display_name": "Python 3"
    },
    "language_info": {
      "name": "python"
    }
  },
  "cells": [
    {
      "cell_type": "markdown",
      "metadata": {
        "id": "view-in-github",
        "colab_type": "text"
      },
      "source": [
        "<a href=\"https://colab.research.google.com/github/JamilleLBarros/Projetos-java/blob/main/Aula02.ipynb\" target=\"_parent\"><img src=\"https://colab.research.google.com/assets/colab-badge.svg\" alt=\"Open In Colab\"/></a>"
      ]
    },
    {
      "cell_type": "code",
      "execution_count": 7,
      "metadata": {
        "colab": {
          "base_uri": "https://localhost:8080/"
        },
        "id": "8Pju9ZRkdNEe",
        "outputId": "49f7ae7c-0a31-4318-bebc-867ba1a1b79e"
      },
      "outputs": [
        {
          "output_type": "stream",
          "name": "stdout",
          "text": [
            "Olá mundo\n",
            "<class 'str'>\n"
          ]
        }
      ],
      "source": [
        "#UNINASSAU\n",
        "#DOCENTE: CLOVES ROCHA\n",
        "#ESTUDANTE: JAMILLE\n",
        "# TIPOS PRIMITIVOS DE DADOS\n",
        "\n",
        "print (\"Olá mundo\")\n",
        "\n",
        "d = \"dado\"\n",
        "print(type(d))"
      ]
    }
  ]
}